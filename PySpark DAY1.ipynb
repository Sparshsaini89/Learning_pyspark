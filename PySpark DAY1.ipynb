{
 "cells": [
  {
   "cell_type": "code",
   "execution_count": 1,
   "id": "a9e01675-85d4-417e-92a3-7b9651b31bd0",
   "metadata": {},
   "outputs": [],
   "source": [
    "from pyspark.sql import SparkSession\n",
    "\n",
    "spark = SparkSession.builder.appName(\"IRIS Data Comparison\").getOrCreate()"
   ]
  },
  {
   "cell_type": "code",
   "execution_count": 2,
   "id": "401714ae-79e0-4260-b2a8-32987df16ecc",
   "metadata": {},
   "outputs": [],
   "source": [
    "iris_csv_spark = spark.read.csv(\"D:\\maclearn\\pyspark\\Iris.csv\", header =True, inferSchema=True)\n",
    "iris_json_spark=spark.read.json(\"D:\\maclearn\\pyspark\\Iris.json\")\n",
    "iris_parquet_spark =spark.read.parquet(\"D:\\maclearn\\pyspark\\Iris.parquet\")"
   ]
  },
  {
   "cell_type": "code",
   "execution_count": 3,
   "id": "3c8c75e2-d0fc-4756-98f2-23945e362ade",
   "metadata": {
    "scrolled": true
   },
   "outputs": [
    {
     "name": "stdout",
     "output_type": "stream",
     "text": [
      "CSV Sample(Spark):\n",
      "+------------+-----------+------------+-----------+-------+\n",
      "|sepal.length|sepal.width|petal.length|petal.width|variety|\n",
      "+------------+-----------+------------+-----------+-------+\n",
      "|         5.1|        3.5|         1.4|        0.2| Setosa|\n",
      "|         4.9|        3.0|         1.4|        0.2| Setosa|\n",
      "|         4.7|        3.2|         1.3|        0.2| Setosa|\n",
      "|         4.6|        3.1|         1.5|        0.2| Setosa|\n",
      "|         5.0|        3.6|         1.4|        0.2| Setosa|\n",
      "+------------+-----------+------------+-----------+-------+\n",
      "only showing top 5 rows\n",
      "\n"
     ]
    }
   ],
   "source": [
    "print(\"CSV Sample(Spark):\")\n",
    "iris_csv_spark.show(5)"
   ]
  },
  {
   "cell_type": "code",
   "execution_count": 5,
   "id": "64f411f3-5a7c-4eef-bf26-6afc1ae99b53",
   "metadata": {},
   "outputs": [
    {
     "name": "stdout",
     "output_type": "stream",
     "text": [
      "\n",
      "Spark CSV Schema:\n",
      "root\n",
      " |-- sepal.length: double (nullable = true)\n",
      " |-- sepal.width: double (nullable = true)\n",
      " |-- petal.length: double (nullable = true)\n",
      " |-- petal.width: double (nullable = true)\n",
      " |-- variety: string (nullable = true)\n",
      "\n",
      "\n",
      "Spark JSON Schema:\n",
      "root\n",
      " |-- petal.length: double (nullable = true)\n",
      " |-- petal.width: double (nullable = true)\n",
      " |-- sepal.length: double (nullable = true)\n",
      " |-- sepal.width: double (nullable = true)\n",
      " |-- variety: string (nullable = true)\n",
      "\n",
      "\n",
      "Spark parquet Schema:\n",
      "root\n",
      " |-- sepal.length: double (nullable = true)\n",
      " |-- sepal.width: double (nullable = true)\n",
      " |-- petal.length: double (nullable = true)\n",
      " |-- petal.width: double (nullable = true)\n",
      " |-- variety: string (nullable = true)\n",
      "\n"
     ]
    }
   ],
   "source": [
    "print(\"\\nSpark CSV Schema:\")\n",
    "iris_csv_spark.printSchema()\n",
    "print(\"\\nSpark JSON Schema:\")\n",
    "iris_json_spark.printSchema()\n",
    "print(\"\\nSpark parquet Schema:\")\n",
    "iris_parquet_spark.printSchema()"
   ]
  },
  {
   "cell_type": "code",
   "execution_count": 6,
   "id": "e025bb0e-b3b0-4d24-a736-9f13929276da",
   "metadata": {},
   "outputs": [
    {
     "name": "stdout",
     "output_type": "stream",
     "text": [
      "sepal.length\n",
      "sepal.width\n",
      "petal.length\n",
      "petal.width\n",
      "variety\n"
     ]
    }
   ],
   "source": [
    "for col_name in iris_csv_spark.columns:\n",
    "    print(col_name)"
   ]
  },
  {
   "cell_type": "code",
   "execution_count": 8,
   "id": "cda4afa3-520d-404c-941f-9a0dd7a850c3",
   "metadata": {},
   "outputs": [],
   "source": [
    "iris_csv_spark =iris_csv_spark.withColumnRenamed(\"sepal.width\", \"sepal_width\")"
   ]
  },
  {
   "cell_type": "code",
   "execution_count": 9,
   "id": "b49180e8-a929-460f-b5fa-11911ff3afb0",
   "metadata": {},
   "outputs": [],
   "source": [
    "iris_csv_spark =iris_csv_spark.withColumnRenamed(\"sepal.length\", \"sepal_length\")\n",
    "iris_csv_spark =iris_csv_spark.withColumnRenamed(\"petal.length\", \"petal_length\")"
   ]
  },
  {
   "cell_type": "code",
   "execution_count": 10,
   "id": "e96e5812-1a01-4333-8c82-7783bcfc86b8",
   "metadata": {},
   "outputs": [],
   "source": [
    "iris_csv_spark =iris_csv_spark.withColumnRenamed(\"petal.width\", \"petal_width\")"
   ]
  },
  {
   "cell_type": "code",
   "execution_count": 11,
   "id": "e03384b8-a7be-427a-bd29-84fcf64312bd",
   "metadata": {},
   "outputs": [
    {
     "name": "stdout",
     "output_type": "stream",
     "text": [
      "+------------+-----------+------------+-----------+-------+\n",
      "|sepal_length|sepal_width|petal_length|petal_width|variety|\n",
      "+------------+-----------+------------+-----------+-------+\n",
      "|         5.1|        3.5|         1.4|        0.2| Setosa|\n",
      "|         4.9|        3.0|         1.4|        0.2| Setosa|\n",
      "|         4.7|        3.2|         1.3|        0.2| Setosa|\n",
      "|         4.6|        3.1|         1.5|        0.2| Setosa|\n",
      "|         5.0|        3.6|         1.4|        0.2| Setosa|\n",
      "+------------+-----------+------------+-----------+-------+\n",
      "only showing top 5 rows\n",
      "\n"
     ]
    }
   ],
   "source": [
    "df =iris_csv_spark\n",
    "df.show(5)"
   ]
  },
  {
   "cell_type": "code",
   "execution_count": 13,
   "id": "87649ef9-d4c7-4030-8caf-3fa19d6b3e55",
   "metadata": {},
   "outputs": [],
   "source": [
    "df.createOrReplaceTempView(\"iris\")"
   ]
  },
  {
   "cell_type": "code",
   "execution_count": 15,
   "id": "45defd26-66e5-4175-b705-d440a55a58d3",
   "metadata": {},
   "outputs": [
    {
     "name": "stdout",
     "output_type": "stream",
     "text": [
      "+------------+-----------+------------+-----------+-------+\n",
      "|sepal_length|sepal_width|petal_length|petal_width|variety|\n",
      "+------------+-----------+------------+-----------+-------+\n",
      "|         5.4|        3.9|         1.7|        0.4| Setosa|\n",
      "|         4.8|        3.4|         1.6|        0.2| Setosa|\n",
      "|         5.7|        3.8|         1.7|        0.3| Setosa|\n",
      "|         5.4|        3.4|         1.7|        0.2| Setosa|\n",
      "|         5.1|        3.3|         1.7|        0.5| Setosa|\n",
      "+------------+-----------+------------+-----------+-------+\n",
      "only showing top 5 rows\n",
      "\n"
     ]
    }
   ],
   "source": [
    "filtered =spark.sql(\"\"\"\n",
    "    SELECT * FROM iris\n",
    "    WHERE petal_length > 1.50\n",
    "    \"\"\")\n",
    "filtered.show(5)"
   ]
  },
  {
   "cell_type": "code",
   "execution_count": 18,
   "id": "dd3dfdc2-5c0d-40d9-8dd9-ac32e0dca918",
   "metadata": {},
   "outputs": [
    {
     "name": "stdout",
     "output_type": "stream",
     "text": [
      "+----------+---------------+\n",
      "|   variety|avg_sepal_width|\n",
      "+----------+---------------+\n",
      "|    Setosa|           3.43|\n",
      "|Versicolor|           2.77|\n",
      "| Virginica|           2.97|\n",
      "+----------+---------------+\n",
      "\n"
     ]
    }
   ],
   "source": [
    "avg_sepal_width =spark.sql(\"\"\"\n",
    "    SELECT variety, ROUND(AVG(sepal_width),2) AS avg_sepal_width\n",
    "    FROM iris\n",
    "    GROUP BY variety\n",
    "    Order BY variety\n",
    "\"\"\")\n",
    "avg_sepal_width.show()"
   ]
  },
  {
   "cell_type": "code",
   "execution_count": null,
   "id": "a7bf2158-97a1-4a11-98c0-aeefa0609d58",
   "metadata": {},
   "outputs": [],
   "source": []
  }
 ],
 "metadata": {
  "kernelspec": {
   "display_name": "Python 3 (ipykernel)",
   "language": "python",
   "name": "python3"
  },
  "language_info": {
   "codemirror_mode": {
    "name": "ipython",
    "version": 3
   },
   "file_extension": ".py",
   "mimetype": "text/x-python",
   "name": "python",
   "nbconvert_exporter": "python",
   "pygments_lexer": "ipython3",
   "version": "3.8.20"
  }
 },
 "nbformat": 4,
 "nbformat_minor": 5
}
