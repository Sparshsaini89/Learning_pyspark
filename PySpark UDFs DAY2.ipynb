{
 "cells": [
  {
   "cell_type": "code",
   "execution_count": 1,
   "id": "a9e32be7-c83d-413e-92e1-288edee57e7f",
   "metadata": {},
   "outputs": [],
   "source": [
    "from pyspark.sql import SparkSession\n",
    "\n",
    "spark = SparkSession.builder.appName(\"IRIS Data Comparison\").getOrCreate()"
   ]
  },
  {
   "cell_type": "code",
   "execution_count": 2,
   "id": "7c53adaa-5374-42bd-92d5-6338e96e0413",
   "metadata": {},
   "outputs": [],
   "source": [
    "iris_csv_spark = spark.read.csv(\"D:\\maclearn\\pyspark\\Iris.csv\", header =True, inferSchema=True)\n",
    "iris_json_spark=spark.read.json(\"D:\\maclearn\\pyspark\\Iris.json\")\n",
    "iris_parquet_spark =spark.read.parquet(\"D:\\maclearn\\pyspark\\Iris.parquet\")"
   ]
  },
  {
   "cell_type": "code",
   "execution_count": 3,
   "id": "2ef5d125-dc33-41b4-b9bd-2e11846045cd",
   "metadata": {},
   "outputs": [
    {
     "name": "stdout",
     "output_type": "stream",
     "text": [
      "CSV Sample(Spark):\n",
      "+------------+-----------+------------+-----------+-------+\n",
      "|sepal.length|sepal.width|petal.length|petal.width|variety|\n",
      "+------------+-----------+------------+-----------+-------+\n",
      "|         5.1|        3.5|         1.4|        0.2| Setosa|\n",
      "|         4.9|        3.0|         1.4|        0.2| Setosa|\n",
      "|         4.7|        3.2|         1.3|        0.2| Setosa|\n",
      "|         4.6|        3.1|         1.5|        0.2| Setosa|\n",
      "|         5.0|        3.6|         1.4|        0.2| Setosa|\n",
      "+------------+-----------+------------+-----------+-------+\n",
      "only showing top 5 rows\n",
      "\n"
     ]
    }
   ],
   "source": [
    "print(\"CSV Sample(Spark):\")\n",
    "iris_csv_spark.show(5)"
   ]
  },
  {
   "cell_type": "code",
   "execution_count": 4,
   "id": "2a317c3d-3422-44d5-b2e0-962bb7fc32d8",
   "metadata": {},
   "outputs": [
    {
     "name": "stdout",
     "output_type": "stream",
     "text": [
      "\n",
      "Spark CSV Schema:\n",
      "root\n",
      " |-- sepal.length: double (nullable = true)\n",
      " |-- sepal.width: double (nullable = true)\n",
      " |-- petal.length: double (nullable = true)\n",
      " |-- petal.width: double (nullable = true)\n",
      " |-- variety: string (nullable = true)\n",
      "\n",
      "\n",
      "Spark JSON Schema:\n",
      "root\n",
      " |-- petal.length: double (nullable = true)\n",
      " |-- petal.width: double (nullable = true)\n",
      " |-- sepal.length: double (nullable = true)\n",
      " |-- sepal.width: double (nullable = true)\n",
      " |-- variety: string (nullable = true)\n",
      "\n",
      "\n",
      "Spark parquet Schema:\n",
      "root\n",
      " |-- sepal.length: double (nullable = true)\n",
      " |-- sepal.width: double (nullable = true)\n",
      " |-- petal.length: double (nullable = true)\n",
      " |-- petal.width: double (nullable = true)\n",
      " |-- variety: string (nullable = true)\n",
      "\n"
     ]
    }
   ],
   "source": [
    "print(\"\\nSpark CSV Schema:\")\n",
    "iris_csv_spark.printSchema()\n",
    "print(\"\\nSpark JSON Schema:\")\n",
    "iris_json_spark.printSchema()\n",
    "print(\"\\nSpark parquet Schema:\")\n",
    "iris_parquet_spark.printSchema()"
   ]
  },
  {
   "cell_type": "code",
   "execution_count": 5,
   "id": "d25eccda-c326-48ea-a540-edf802ba2a42",
   "metadata": {},
   "outputs": [],
   "source": [
    "def classify_by_petal_length(petal_length):\n",
    "    if petal_length <2.0:\n",
    "        return \"small\"\n",
    "    elif 2.0<= petal_length < 5.0:\n",
    "        return \"medium\"\n",
    "    else:\n",
    "        return \"Large\""
   ]
  },
  {
   "cell_type": "code",
   "execution_count": 6,
   "id": "14d4823f-7237-4dc3-b4b5-aa63361daf38",
   "metadata": {},
   "outputs": [],
   "source": [
    "def classify_by_sepal_width(sepal_width):\n",
    "    if sepal_width <3.0:\n",
    "        return \"Narrow\"\n",
    "    elif 3.0<= sepal_width < 3.5:\n",
    "        return \"Moderate\"\n",
    "    else:\n",
    "        return \"Wide\""
   ]
  },
  {
   "cell_type": "code",
   "execution_count": 7,
   "id": "2b57c175-b1fc-43d0-8a12-899fbbc0ec9f",
   "metadata": {},
   "outputs": [],
   "source": [
    "from pyspark.sql.functions import udf\n",
    "from pyspark.sql.types import StringType\n",
    "from pyspark.sql.functions import col"
   ]
  },
  {
   "cell_type": "code",
   "execution_count": 8,
   "id": "22072bee-12ac-45f9-8efb-52a4466230db",
   "metadata": {},
   "outputs": [],
   "source": [
    "petal_size_udf =udf(classify_by_petal_length, StringType())\n",
    "sepal_size_udf =udf(classify_by_sepal_width, StringType())"
   ]
  },
  {
   "cell_type": "code",
   "execution_count": 13,
   "id": "b42f542f-3cb4-4501-8e99-3c1f7c9e0f92",
   "metadata": {},
   "outputs": [
    {
     "ename": "SyntaxError",
     "evalue": "invalid syntax (515061183.py, line 3)",
     "output_type": "error",
     "traceback": [
      "\u001b[1;36m  Cell \u001b[1;32mIn[13], line 3\u001b[1;36m\u001b[0m\n\u001b[1;33m    iris_classified.show(10)\u001b[0m\n\u001b[1;37m    ^\u001b[0m\n\u001b[1;31mSyntaxError\u001b[0m\u001b[1;31m:\u001b[0m invalid syntax\n"
     ]
    }
   ],
   "source": [
    "iris_classified = iris_csv_spark.withColumn(\"petal_size\", petal_size_udf(\"petal.length\") \\\n",
    "                                .withColumn(\"sepal_size\", sepal_size_udf(\"sepal.width\"))\n",
    "iris_classified.show(10)"
   ]
  },
  {
   "cell_type": "code",
   "execution_count": null,
   "id": "c90c1ed1-67f1-472e-8e1c-4ffc341b6d85",
   "metadata": {},
   "outputs": [],
   "source": []
  }
 ],
 "metadata": {
  "kernelspec": {
   "display_name": "Python 3 (ipykernel)",
   "language": "python",
   "name": "python3"
  },
  "language_info": {
   "codemirror_mode": {
    "name": "ipython",
    "version": 3
   },
   "file_extension": ".py",
   "mimetype": "text/x-python",
   "name": "python",
   "nbconvert_exporter": "python",
   "pygments_lexer": "ipython3",
   "version": "3.8.20"
  }
 },
 "nbformat": 4,
 "nbformat_minor": 5
}
